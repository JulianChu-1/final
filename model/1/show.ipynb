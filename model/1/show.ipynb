{
 "cells": [
  {
   "cell_type": "code",
   "execution_count": 2,
   "metadata": {},
   "outputs": [],
   "source": [
    "import pymongo\n",
    "import jieba\n",
    "from datetime import datetime, timedelta, date\n",
    "from dateutil import parser\n",
    "\n",
    "client = pymongo.MongoClient(host='127.0.0.1:27017')\n",
    "collection_spider = client['test']['weibo']\n",
    "collection_weibo = client['whut_final']['weibo']\n",
    "collection_poster = client['test']['user']"
   ]
  },
  {
   "cell_type": "code",
   "execution_count": 8,
   "metadata": {},
   "outputs": [],
   "source": [
    "used_words = set()\n",
    "word_data = []\n",
    "stop_words = ['##', '视频', '微博']\n",
    "\n",
    "latest_weibo = collection_weibo.find_one({\"user_id\": int('1630856882')}, sort=[(\"created_at\", -1)])\n",
    "now = parser.parse(latest_weibo[\"created_at\"])\n",
    "date_ranges = {\n",
    "    \"最近五天\": now - timedelta(days=5),\n",
    "    \"最近十四天\": now - timedelta(days=14),\n",
    "    \"最近一个月\": now - timedelta(days=30),\n",
    "    \"最近三个月\": now - timedelta(days=90),\n",
    "    \"最近半年\": now - timedelta(days=180),\n",
    "    \"全部\": None\n",
    "}\n",
    "\n",
    "for label, start_date in date_ranges.items():\n",
    "    if start_date:\n",
    "        query = {\"user_id\": int('1630856882'), \"created_at\": {\"$gte\": start_date.isoformat()}}\n",
    "\n",
    "    weibos = collection_weibo.find(query, {\"text\": 1, \"_id\": 0})\n",
    "    word_frequency = {}\n",
    "\n",
    "    for weibo in weibos:\n",
    "        words = jieba.cut(weibo['text'])\n",
    "        for word in words:\n",
    "            if len(word) > 1 and word not in used_words and word not in stop_words:\n",
    "                if word not in word_frequency:\n",
    "                    word_frequency[word] = 1\n",
    "                else:\n",
    "                    word_frequency[word] += 1\n",
    "    \n",
    "    top_three = sorted(word_frequency.items(), key=lambda x: x[1], reverse=True)[:3]\n",
    "    top_three_words = ' '.join([word[0] for word in top_three])\n",
    "\n",
    "    used_words.update([word[0] for word in top_three])\n",
    "\n",
    "    word_data.append({label, top_three_words})"
   ]
  },
  {
   "cell_type": "code",
   "execution_count": 9,
   "metadata": {},
   "outputs": [
    {
     "data": {
      "text/plain": [
       "[{'最近五天', '陶喆 SoulPowerII 世界'},\n",
       " {'大家 Soul Power', '最近十四天'},\n",
       " {'最近一个月', '音樂 見面 我們'},\n",
       " {'一起 可以 你們', '最近三个月'},\n",
       " {'希望 演出 2024', '最近半年'},\n",
       " {'全部', '時間 II 今天'}]"
      ]
     },
     "execution_count": 9,
     "metadata": {},
     "output_type": "execute_result"
    }
   ],
   "source": [
    "word_data"
   ]
  },
  {
   "cell_type": "code",
   "execution_count": 10,
   "metadata": {},
   "outputs": [],
   "source": [
    "def LDA_Identify(f, k):\n",
    "    return ('娱乐', 0.648592106)"
   ]
  },
  {
   "cell_type": "code",
   "execution_count": 14,
   "metadata": {},
   "outputs": [],
   "source": [
    "lda = 1"
   ]
  },
  {
   "cell_type": "code",
   "execution_count": 15,
   "metadata": {},
   "outputs": [
    {
     "data": {
      "text/plain": [
       "('娱乐', 0.648592106)"
      ]
     },
     "execution_count": 15,
     "metadata": {},
     "output_type": "execute_result"
    }
   ],
   "source": [
    "LDA_Identify(lda, \"#廖骏雄去世##廖骏雄离世# 据港媒，香港演员廖骏雄今晨离世，享年63岁。他曾在2021年4月不幸确诊胃癌第四期，化疗后表示身体状况有所转好。\")"
   ]
  },
  {
   "cell_type": "code",
   "execution_count": null,
   "metadata": {},
   "outputs": [],
   "source": []
  }
 ],
 "metadata": {
  "kernelspec": {
   "display_name": "base",
   "language": "python",
   "name": "python3"
  },
  "language_info": {
   "codemirror_mode": {
    "name": "ipython",
    "version": 3
   },
   "file_extension": ".py",
   "mimetype": "text/x-python",
   "name": "python",
   "nbconvert_exporter": "python",
   "pygments_lexer": "ipython3",
   "version": "3.11.5"
  }
 },
 "nbformat": 4,
 "nbformat_minor": 2
}
