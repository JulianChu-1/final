{
 "cells": [
  {
   "cell_type": "code",
   "execution_count": 1,
   "metadata": {},
   "outputs": [],
   "source": [
    "import jieba"
   ]
  },
  {
   "cell_type": "code",
   "execution_count": 2,
   "metadata": {},
   "outputs": [],
   "source": [
    "dic = {\n",
    "    'news_culture' : '文化',\n",
    "    'news_entertainment' : '娱乐',\n",
    "    'news_sports' : '运动',\n",
    "    'news_finance' : '经济',\n",
    "    'news_house' : '房产',\n",
    "    'news_car' : '汽车',\n",
    "    'news_edu' : '教育',\n",
    "    'news_tech' : '科技',\n",
    "    'news_military' : '军事',\n",
    "    'news_travel' : '旅行',\n",
    "    'news_world' : '世界',\n",
    "    'news_agriculture' : '农业',\n",
    "    'news_game' : '游戏'\n",
    "}\n",
    "my_dict = {\n",
    "    \n",
    "}"
   ]
  },
  {
   "cell_type": "code",
   "execution_count": 4,
   "metadata": {},
   "outputs": [],
   "source": [
    "lines = []\n",
    "\n",
    "with open(\"../data/toutiao_cat_data.txt\", 'r') as f:\n",
    "    for line in f.readlines():\n",
    "        lines.append(line)"
   ]
  },
  {
   "cell_type": "code",
   "execution_count": 5,
   "metadata": {},
   "outputs": [
    {
     "data": {
      "text/plain": [
       "'6551700932705387022_!_101_!_news_culture_!_京城最值得你来场文化之旅的博物馆_!_保利集团,马未都,中国科学技术馆,博物馆,新中国\\n'"
      ]
     },
     "execution_count": 5,
     "metadata": {},
     "output_type": "execute_result"
    }
   ],
   "source": [
    "lines[0]"
   ]
  },
  {
   "cell_type": "code",
   "execution_count": 6,
   "metadata": {},
   "outputs": [],
   "source": [
    "data = []\n",
    "temp_dict = []\n",
    "\n",
    "for line in lines:\n",
    "    temp = line.split(\"_!_\")\n",
    "    temp_dict.append(temp[-1])\n",
    "    temp = temp[2:4]\n",
    "    temp[0] = dic.get(temp[0], 'Default_Value')\n",
    "    data.append(temp)"
   ]
  },
  {
   "cell_type": "code",
   "execution_count": 8,
   "metadata": {},
   "outputs": [
    {
     "data": {
      "text/plain": [
       "'保利集团,马未都,中国科学技术馆,博物馆,新中国\\n'"
      ]
     },
     "execution_count": 8,
     "metadata": {},
     "output_type": "execute_result"
    }
   ],
   "source": [
    "temp_dict[0]"
   ]
  },
  {
   "cell_type": "code",
   "execution_count": 7,
   "metadata": {},
   "outputs": [
    {
     "data": {
      "text/plain": [
       "['文化', '京城最值得你来场文化之旅的博物馆']"
      ]
     },
     "execution_count": 7,
     "metadata": {},
     "output_type": "execute_result"
    }
   ],
   "source": [
    "data[0]"
   ]
  },
  {
   "cell_type": "code",
   "execution_count": 2,
   "metadata": {},
   "outputs": [
    {
     "ename": "NameError",
     "evalue": "name 'temp_dict' is not defined",
     "output_type": "error",
     "traceback": [
      "\u001b[1;31m---------------------------------------------------------------------------\u001b[0m",
      "\u001b[1;31mNameError\u001b[0m                                 Traceback (most recent call last)",
      "Cell \u001b[1;32mIn[2], line 1\u001b[0m\n\u001b[1;32m----> 1\u001b[0m \u001b[38;5;28;01mfor\u001b[39;00m line \u001b[38;5;129;01min\u001b[39;00m temp_dict:\n\u001b[0;32m      2\u001b[0m     \u001b[38;5;28;01mif\u001b[39;00m \u001b[38;5;28mlen\u001b[39m(line) \u001b[38;5;241m==\u001b[39m \u001b[38;5;241m1\u001b[39m:\n\u001b[0;32m      3\u001b[0m         \u001b[38;5;28;01mcontinue\u001b[39;00m\n",
      "\u001b[1;31mNameError\u001b[0m: name 'temp_dict' is not defined"
     ]
    }
   ],
   "source": [
    "for line in temp_dict:\n",
    "    if len(line) == 1:\n",
    "        continue\n",
    "    line = line[:-1]\n",
    "    temp_list = line.split(',')\n",
    "    for temp in temp_list:\n",
    "        if my_dict.get(temp) is None:\n",
    "            my_dict[temp] = 1\n",
    "        else:\n",
    "            my_dict[temp] += 1\n",
    "    "
   ]
  },
  {
   "cell_type": "code",
   "execution_count": 58,
   "metadata": {},
   "outputs": [],
   "source": [
    "with open(\"../data/my_dict.txt\", 'a') as file:\n",
    "    for item in my_dict.items():\n",
    "        file.write(item[0] + \" \" + str(item[1]) + '\\n')\n"
   ]
  },
  {
   "cell_type": "code",
   "execution_count": 43,
   "metadata": {},
   "outputs": [
    {
     "data": {
      "text/plain": [
       "'国'"
      ]
     },
     "execution_count": 43,
     "metadata": {},
     "output_type": "execute_result"
    }
   ],
   "source": [
    "temp_dict[0][-2]"
   ]
  },
  {
   "cell_type": "code",
   "execution_count": 48,
   "metadata": {},
   "outputs": [
    {
     "data": {
      "text/plain": [
       "1"
      ]
     },
     "execution_count": 48,
     "metadata": {},
     "output_type": "execute_result"
    }
   ],
   "source": [
    "len(temp_dict[2])"
   ]
  },
  {
   "cell_type": "code",
   "execution_count": 19,
   "metadata": {},
   "outputs": [
    {
     "name": "stdout",
     "output_type": "stream",
     "text": [
      "Default Mode: 保利/ 集团/ ,/ 马未/ 都/ ,/ 中国科学技术馆/ ,/ 博物馆/ ,/ 新/ 中国\n"
     ]
    }
   ],
   "source": [
    "seg_list = jieba.cut(\"保利集团,马未都,中国科学技术馆,博物馆,新中国\", cut_all=False)\n",
    "print(\"Default Mode: \" + \"/ \".join(seg_list))"
   ]
  },
  {
   "cell_type": "code",
   "execution_count": 1,
   "metadata": {},
   "outputs": [
    {
     "ename": "NameError",
     "evalue": "name 'my_dict' is not defined",
     "output_type": "error",
     "traceback": [
      "\u001b[1;31m---------------------------------------------------------------------------\u001b[0m",
      "\u001b[1;31mNameError\u001b[0m                                 Traceback (most recent call last)",
      "Cell \u001b[1;32mIn[1], line 1\u001b[0m\n\u001b[1;32m----> 1\u001b[0m \u001b[38;5;28;01mfor\u001b[39;00m item \u001b[38;5;129;01min\u001b[39;00m my_dict\u001b[38;5;241m.\u001b[39mitems():\n\u001b[0;32m      2\u001b[0m     \u001b[38;5;28mprint\u001b[39m(item[\u001b[38;5;241m0\u001b[39m] \u001b[38;5;241m+\u001b[39m \u001b[38;5;124m\"\u001b[39m\u001b[38;5;124m \u001b[39m\u001b[38;5;124m\"\u001b[39m \u001b[38;5;241m+\u001b[39m \u001b[38;5;28mstr\u001b[39m(item[\u001b[38;5;241m1\u001b[39m]))\n",
      "\u001b[1;31mNameError\u001b[0m: name 'my_dict' is not defined"
     ]
    }
   ],
   "source": [
    "for item in my_dict.items():\n",
    "    print(item[0] + \" \" + str(item[1]))"
   ]
  },
  {
   "cell_type": "code",
   "execution_count": 1,
   "metadata": {},
   "outputs": [],
   "source": [
    "import pandas as pd"
   ]
  },
  {
   "cell_type": "code",
   "execution_count": 7,
   "metadata": {},
   "outputs": [
    {
     "data": {
      "text/plain": [
       "(5180, 2)"
      ]
     },
     "execution_count": 7,
     "metadata": {},
     "output_type": "execute_result"
    }
   ],
   "source": [
    "df1 = pd.read_csv(\"../data/edu.csv\")\n",
    "df2 = pd.read_csv(\"../data/entertain.csv\")\n",
    "df3 = pd.read_csv(\"../data/finance.csv\")\n",
    "df4 = pd.read_csv(\"../data/international.csv\")\n",
    "df5 = pd.read_csv(\"../data/military.csv\")\n",
    "df6 = pd.read_csv(\"../data/sport.csv\")\n",
    "df7 = pd.read_csv(\"../data/tech.csv\")\n",
    "df8 = pd.read_excel(\"../data/data_test.xlsx\")\n",
    "\n",
    "df = pd.concat([df1,df2,df3,df4,df5,df6,df7,df8], ignore_index=True)\n",
    "df.shape"
   ]
  },
  {
   "cell_type": "code",
   "execution_count": 12,
   "metadata": {},
   "outputs": [],
   "source": [
    "df.to_excel(\"data.xlsx\")"
   ]
  },
  {
   "cell_type": "code",
   "execution_count": 3,
   "metadata": {},
   "outputs": [
    {
     "name": "stdout",
     "output_type": "stream",
     "text": [
      "163\n",
      "667\n"
     ]
    }
   ],
   "source": [
    "for i in range(1001):\n",
    "    if i % 7 == 2 and i % 8 == 3 and i % 9 == 1:\n",
    "        print(i)"
   ]
  },
  {
   "cell_type": "code",
   "execution_count": 2,
   "metadata": {},
   "outputs": [
    {
     "data": {
      "text/plain": [
       "0"
      ]
     },
     "execution_count": 2,
     "metadata": {},
     "output_type": "execute_result"
    }
   ],
   "source": [
    "9 % 3"
   ]
  },
  {
   "cell_type": "code",
   "execution_count": 9,
   "metadata": {},
   "outputs": [
    {
     "data": {
      "text/plain": [
       "InsertOneResult(ObjectId('661cf41175bedcd557c11e8e'), acknowledged=True)"
      ]
     },
     "execution_count": 9,
     "metadata": {},
     "output_type": "execute_result"
    }
   ],
   "source": [
    "import pymongo\n",
    "from datetime import datetime\n",
    "\n",
    "client = pymongo.MongoClient(host='127.0.0.1:27017')\n",
    "collection = client['whut_final']['user']\n",
    "\n",
    "now = datetime.now()\n",
    "formatted_time = now.strftime(\"%Y-%m-%dT%H:%M:%S\")\n",
    "\n",
    "data = {\n",
    "    \"username\": \"test\",\n",
    "    \"nickname\": \"456\",\n",
    "    \"password\": \"123\",\n",
    "    \"sex\": \"male\",\n",
    "    \"status\": \"on\",\n",
    "    \"role\": \"user\",\n",
    "    # \"created_at\": formatted_time\n",
    "    \"id\": \"3\",\n",
    "}\n",
    "\n",
    "\n",
    "\n",
    "collection.insert_one(data)"
   ]
  },
  {
   "cell_type": "code",
   "execution_count": 1,
   "metadata": {},
   "outputs": [
    {
     "data": {
      "text/plain": [
       "UpdateResult({'n': 70, 'nModified': 70, 'ok': 1.0, 'updatedExisting': True}, acknowledged=True)"
      ]
     },
     "execution_count": 1,
     "metadata": {},
     "output_type": "execute_result"
    }
   ],
   "source": [
    "import pymongo\n",
    "client = pymongo.MongoClient(host='127.0.0.1:27017')\n",
    "collection = client['whut_final']['weibo']\n",
    "\n",
    "new_att = \"spider_time\"\n",
    "new_value = \"2024-01-15T16:06:45\"\n",
    "collection.update_many({}, {\"$set\": {new_att: new_value}})"
   ]
  },
  {
   "cell_type": "code",
   "execution_count": 7,
   "metadata": {},
   "outputs": [
    {
     "data": {
      "text/plain": [
       "<Response [200]>"
      ]
     },
     "execution_count": 7,
     "metadata": {},
     "output_type": "execute_result"
    }
   ],
   "source": [
    "import requests\n",
    "import json\n",
    "\n",
    "data = {'username': \"12356\", 'nickname': \"ddddd\", 'password': \"weqeqwe\", 'sex': \"male\", 'status': \"on\", 'role': \"user\"}\n",
    "\n",
    "requests.post(\"http://127.0.0.1:8000/users/\",json.dumps(data))"
   ]
  },
  {
   "cell_type": "code",
   "execution_count": 1,
   "metadata": {},
   "outputs": [],
   "source": [
    "import pymongo\n",
    "client = pymongo.MongoClient(host='127.0.0.1:27017')\n",
    "collection = client['whut_final']['user']\n",
    "\n",
    "login_user = collection.find_one({\"username\": \"12356\"})\n"
   ]
  },
  {
   "cell_type": "code",
   "execution_count": 3,
   "metadata": {},
   "outputs": [
    {
     "data": {
      "text/plain": [
       "'weqeqwe'"
      ]
     },
     "execution_count": 3,
     "metadata": {},
     "output_type": "execute_result"
    }
   ],
   "source": [
    "login_user['password']"
   ]
  },
  {
   "cell_type": "code",
   "execution_count": null,
   "metadata": {},
   "outputs": [],
   "source": []
  }
 ],
 "metadata": {
  "kernelspec": {
   "display_name": "base",
   "language": "python",
   "name": "python3"
  },
  "language_info": {
   "codemirror_mode": {
    "name": "ipython",
    "version": 3
   },
   "file_extension": ".py",
   "mimetype": "text/x-python",
   "name": "python",
   "nbconvert_exporter": "python",
   "pygments_lexer": "ipython3",
   "version": "3.11.5"
  }
 },
 "nbformat": 4,
 "nbformat_minor": 2
}
