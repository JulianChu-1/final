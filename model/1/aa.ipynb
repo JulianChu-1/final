{
 "cells": [
  {
   "cell_type": "code",
   "execution_count": 1,
   "metadata": {},
   "outputs": [],
   "source": [
    "import jieba"
   ]
  },
  {
   "cell_type": "code",
   "execution_count": 2,
   "metadata": {},
   "outputs": [],
   "source": [
    "dic = {\n",
    "    'news_culture' : '文化',\n",
    "    'news_entertainment' : '娱乐',\n",
    "    'news_sports' : '运动',\n",
    "    'news_finance' : '经济',\n",
    "    'news_house' : '房产',\n",
    "    'news_car' : '汽车',\n",
    "    'news_edu' : '教育',\n",
    "    'news_tech' : '科技',\n",
    "    'news_military' : '军事',\n",
    "    'news_travel' : '旅行',\n",
    "    'news_world' : '世界',\n",
    "    'news_agriculture' : '农业',\n",
    "    'news_game' : '游戏'\n",
    "}\n",
    "my_dict = {\n",
    "    \n",
    "}"
   ]
  },
  {
   "cell_type": "code",
   "execution_count": 4,
   "metadata": {},
   "outputs": [],
   "source": [
    "lines = []\n",
    "\n",
    "with open(\"../data/toutiao_cat_data.txt\", 'r') as f:\n",
    "    for line in f.readlines():\n",
    "        lines.append(line)"
   ]
  },
  {
   "cell_type": "code",
   "execution_count": 5,
   "metadata": {},
   "outputs": [
    {
     "data": {
      "text/plain": [
       "'6551700932705387022_!_101_!_news_culture_!_京城最值得你来场文化之旅的博物馆_!_保利集团,马未都,中国科学技术馆,博物馆,新中国\\n'"
      ]
     },
     "execution_count": 5,
     "metadata": {},
     "output_type": "execute_result"
    }
   ],
   "source": [
    "lines[0]"
   ]
  },
  {
   "cell_type": "code",
   "execution_count": 6,
   "metadata": {},
   "outputs": [],
   "source": [
    "data = []\n",
    "temp_dict = []\n",
    "\n",
    "for line in lines:\n",
    "    temp = line.split(\"_!_\")\n",
    "    temp_dict.append(temp[-1])\n",
    "    temp = temp[2:4]\n",
    "    temp[0] = dic.get(temp[0], 'Default_Value')\n",
    "    data.append(temp)"
   ]
  },
  {
   "cell_type": "code",
   "execution_count": 8,
   "metadata": {},
   "outputs": [
    {
     "data": {
      "text/plain": [
       "'保利集团,马未都,中国科学技术馆,博物馆,新中国\\n'"
      ]
     },
     "execution_count": 8,
     "metadata": {},
     "output_type": "execute_result"
    }
   ],
   "source": [
    "temp_dict[0]"
   ]
  },
  {
   "cell_type": "code",
   "execution_count": 7,
   "metadata": {},
   "outputs": [
    {
     "data": {
      "text/plain": [
       "['文化', '京城最值得你来场文化之旅的博物馆']"
      ]
     },
     "execution_count": 7,
     "metadata": {},
     "output_type": "execute_result"
    }
   ],
   "source": [
    "data[0]"
   ]
  },
  {
   "cell_type": "code",
   "execution_count": 2,
   "metadata": {},
   "outputs": [
    {
     "ename": "NameError",
     "evalue": "name 'temp_dict' is not defined",
     "output_type": "error",
     "traceback": [
      "\u001b[1;31m---------------------------------------------------------------------------\u001b[0m",
      "\u001b[1;31mNameError\u001b[0m                                 Traceback (most recent call last)",
      "Cell \u001b[1;32mIn[2], line 1\u001b[0m\n\u001b[1;32m----> 1\u001b[0m \u001b[38;5;28;01mfor\u001b[39;00m line \u001b[38;5;129;01min\u001b[39;00m temp_dict:\n\u001b[0;32m      2\u001b[0m     \u001b[38;5;28;01mif\u001b[39;00m \u001b[38;5;28mlen\u001b[39m(line) \u001b[38;5;241m==\u001b[39m \u001b[38;5;241m1\u001b[39m:\n\u001b[0;32m      3\u001b[0m         \u001b[38;5;28;01mcontinue\u001b[39;00m\n",
      "\u001b[1;31mNameError\u001b[0m: name 'temp_dict' is not defined"
     ]
    }
   ],
   "source": [
    "for line in temp_dict:\n",
    "    if len(line) == 1:\n",
    "        continue\n",
    "    line = line[:-1]\n",
    "    temp_list = line.split(',')\n",
    "    for temp in temp_list:\n",
    "        if my_dict.get(temp) is None:\n",
    "            my_dict[temp] = 1\n",
    "        else:\n",
    "            my_dict[temp] += 1\n",
    "    "
   ]
  },
  {
   "cell_type": "code",
   "execution_count": 58,
   "metadata": {},
   "outputs": [],
   "source": [
    "with open(\"../data/my_dict.txt\", 'a') as file:\n",
    "    for item in my_dict.items():\n",
    "        file.write(item[0] + \" \" + str(item[1]) + '\\n')\n"
   ]
  },
  {
   "cell_type": "code",
   "execution_count": 43,
   "metadata": {},
   "outputs": [
    {
     "data": {
      "text/plain": [
       "'国'"
      ]
     },
     "execution_count": 43,
     "metadata": {},
     "output_type": "execute_result"
    }
   ],
   "source": [
    "temp_dict[0][-2]"
   ]
  },
  {
   "cell_type": "code",
   "execution_count": 48,
   "metadata": {},
   "outputs": [
    {
     "data": {
      "text/plain": [
       "1"
      ]
     },
     "execution_count": 48,
     "metadata": {},
     "output_type": "execute_result"
    }
   ],
   "source": [
    "len(temp_dict[2])"
   ]
  },
  {
   "cell_type": "code",
   "execution_count": 19,
   "metadata": {},
   "outputs": [
    {
     "name": "stdout",
     "output_type": "stream",
     "text": [
      "Default Mode: 保利/ 集团/ ,/ 马未/ 都/ ,/ 中国科学技术馆/ ,/ 博物馆/ ,/ 新/ 中国\n"
     ]
    }
   ],
   "source": [
    "seg_list = jieba.cut(\"保利集团,马未都,中国科学技术馆,博物馆,新中国\", cut_all=False)\n",
    "print(\"Default Mode: \" + \"/ \".join(seg_list))"
   ]
  },
  {
   "cell_type": "code",
   "execution_count": 1,
   "metadata": {},
   "outputs": [
    {
     "ename": "NameError",
     "evalue": "name 'my_dict' is not defined",
     "output_type": "error",
     "traceback": [
      "\u001b[1;31m---------------------------------------------------------------------------\u001b[0m",
      "\u001b[1;31mNameError\u001b[0m                                 Traceback (most recent call last)",
      "Cell \u001b[1;32mIn[1], line 1\u001b[0m\n\u001b[1;32m----> 1\u001b[0m \u001b[38;5;28;01mfor\u001b[39;00m item \u001b[38;5;129;01min\u001b[39;00m my_dict\u001b[38;5;241m.\u001b[39mitems():\n\u001b[0;32m      2\u001b[0m     \u001b[38;5;28mprint\u001b[39m(item[\u001b[38;5;241m0\u001b[39m] \u001b[38;5;241m+\u001b[39m \u001b[38;5;124m\"\u001b[39m\u001b[38;5;124m \u001b[39m\u001b[38;5;124m\"\u001b[39m \u001b[38;5;241m+\u001b[39m \u001b[38;5;28mstr\u001b[39m(item[\u001b[38;5;241m1\u001b[39m]))\n",
      "\u001b[1;31mNameError\u001b[0m: name 'my_dict' is not defined"
     ]
    }
   ],
   "source": [
    "for item in my_dict.items():\n",
    "    print(item[0] + \" \" + str(item[1]))"
   ]
  },
  {
   "cell_type": "code",
   "execution_count": 1,
   "metadata": {},
   "outputs": [],
   "source": [
    "import pandas as pd"
   ]
  },
  {
   "cell_type": "code",
   "execution_count": 7,
   "metadata": {},
   "outputs": [
    {
     "data": {
      "text/plain": [
       "(5180, 2)"
      ]
     },
     "execution_count": 7,
     "metadata": {},
     "output_type": "execute_result"
    }
   ],
   "source": [
    "df1 = pd.read_csv(\"../data/edu.csv\")\n",
    "df2 = pd.read_csv(\"../data/entertain.csv\")\n",
    "df3 = pd.read_csv(\"../data/finance.csv\")\n",
    "df4 = pd.read_csv(\"../data/international.csv\")\n",
    "df5 = pd.read_csv(\"../data/military.csv\")\n",
    "df6 = pd.read_csv(\"../data/sport.csv\")\n",
    "df7 = pd.read_csv(\"../data/tech.csv\")\n",
    "df8 = pd.read_excel(\"../data/data_test.xlsx\")\n",
    "\n",
    "df = pd.concat([df1,df2,df3,df4,df5,df6,df7,df8], ignore_index=True)\n",
    "df.shape"
   ]
  },
  {
   "cell_type": "code",
   "execution_count": 12,
   "metadata": {},
   "outputs": [],
   "source": [
    "df.to_excel(\"data.xlsx\")"
   ]
  },
  {
   "cell_type": "code",
   "execution_count": 3,
   "metadata": {},
   "outputs": [
    {
     "name": "stdout",
     "output_type": "stream",
     "text": [
      "163\n",
      "667\n"
     ]
    }
   ],
   "source": [
    "for i in range(1001):\n",
    "    if i % 7 == 2 and i % 8 == 3 and i % 9 == 1:\n",
    "        print(i)"
   ]
  },
  {
   "cell_type": "code",
   "execution_count": 9,
   "metadata": {},
   "outputs": [
    {
     "data": {
      "text/plain": [
       "datetime.date(2024, 4, 26)"
      ]
     },
     "execution_count": 9,
     "metadata": {},
     "output_type": "execute_result"
    }
   ],
   "source": [
    "from datetime import datetime, date\n",
    "\n",
    "today = datetime.today().strftime('%Y-%m-%d')\n",
    "a = date.fromisoformat(today)\n",
    "a"
   ]
  },
  {
   "cell_type": "code",
   "execution_count": 3,
   "metadata": {},
   "outputs": [],
   "source": [
    "import pymongo\n",
    "from datetime import datetime\n",
    "\n",
    "fields = {'id': 1, 'user_id': 1, 'screen_name': 1, 'text': 1, 'created_at': 1, 'topics': 1,}\n",
    "config = {\n",
    "    'user_id_list': ['2609400635'],\n",
    "}\n",
    "weibos = []\n",
    "\n",
    "client = pymongo.MongoClient(host='127.0.0.1:27017')\n",
    "# weibo_collection = client['whut_final']['weibo']\n",
    "spider_collection = client['test']['weibo']\n",
    "\n",
    "cursor = spider_collection.find({\"user_id\": 2609400635}, fields)\n",
    "for document in cursor:\n",
    "    now = datetime.now()\n",
    "    document['category'] = '娱乐'\n",
    "    document['spider_time'] = now.strftime(\"%Y-%m-%dT%H:%M:%S\")\n",
    "    weibos.append(document)"
   ]
  },
  {
   "cell_type": "code",
   "execution_count": 7,
   "metadata": {},
   "outputs": [
    {
     "data": {
      "text/plain": [
       "InsertManyResult([ObjectId('6624c46517ab9704a7919666')], acknowledged=True)"
      ]
     },
     "execution_count": 7,
     "metadata": {},
     "output_type": "execute_result"
    }
   ],
   "source": [
    "weibo_collection = client['whut_final']['weibo']\n",
    "weibo_collection.insert_many(weibos)"
   ]
  },
  {
   "cell_type": "code",
   "execution_count": 5,
   "metadata": {},
   "outputs": [
    {
     "name": "stdout",
     "output_type": "stream",
     "text": [
      "{'_id': ObjectId('6624bdf48719ca2ea01635c3'), 'user_id': 1630856882, 'screen_name': '陶喆', 'id': 5025597174318851, 'bid': 'OaJTLi7wT', 'text': '昨晚開場前說要給大家展示我的功夫，沒想到真的意外上演了一段“鯉魚打挺”，有點不好意思😹\\n因為這兩天不穩定的雷雨天氣，大家趕來現場都辛苦了，希望昨晚大家都還好\\n相聚不易，佛山Day2，我依然會努力把我的全部給你們！今晚見囉！#陶喆佛山演唱会##陶喆SoulPowerII世界巡回演唱会# ', 'article_url': '', 'pics': 'https://wx1.sinaimg.cn/large/001MmUnggy1hoyd90ysanj62zf4h4u0z02.jpg,https://wx1.sinaimg.cn/large/001MmUnggy1hoyd8xzc23j63344mo1kz02.jpg,https://wx4.sinaimg.cn/large/001MmUnggy1hoyd920uc0j63gg56o1l102.jpg,https://wx2.sinaimg.cn/large/001MmUnggy1hoyd95lo1hj63344mohe302.jpg,https://wx4.sinaimg.cn/large/001MmUnggy1hoyd94nd7pj64mo334b2f02.jpg,https://wx2.sinaimg.cn/large/001MmUnggy1hoyd91kk97j62yq4g3npg02.jpg,https://wx3.sinaimg.cn/large/001MmUnggy1hoyd8vc1qij633s4no1ky02.jpg,https://wx2.sinaimg.cn/large/001MmUnggy1hoyd90m373j63ie59l7wk02.jpg,https://wx4.sinaimg.cn/large/001MmUnggy1hoyd9435cdj664w439b2e02.jpg,https://wx3.sinaimg.cn/large/001MmUnggy1hoyd92quivj664w4391l102.jpg,https://wx1.sinaimg.cn/large/001MmUnggy1hoyd8z68rzj64mo334kjn02.jpg,https://wx1.sinaimg.cn/large/001MmUnggy1hoyd92kjqwj64mo334qv802.jpg,https://wx4.sinaimg.cn/large/001MmUnggy1hoyd96dn63j656s3hkhe302.jpg,https://wx2.sinaimg.cn/large/001MmUnggy1hoyd93aqawj656f318u1102.jpg', 'video_url': '', 'location': '', 'created_at': '2024-04-21T14:00:00', 'source': '微博网页版', 'attitudes_count': 9743, 'comments_count': 2549, 'reposts_count': 2789, 'topics': '陶喆佛山演唱会,陶喆SoulPowerII世界巡回演唱会', 'at_users': '', 'full_created_at': '2024-04-21 14:00:00'}\n",
      "{'_id': ObjectId('6624bdf48719ca2ea01635c4'), 'user_id': 1630856882, 'screen_name': '陶喆', 'id': 5025305251810050, 'bid': 'OaCiV7ASm', 'text': '暴雨天氣大家一定要注意安全[合十]慢慢來有序進場～讓我們稍晚些見面，我會一直在這裡等著大家🫶#陶喆佛山演唱会##陶喆SoulPowerII世界巡回演唱会# ', 'article_url': '', 'pics': 'https://wx2.sinaimg.cn/large/001MmUnggy1hoxgy4wmxxj64jk3111l302.jpg', 'video_url': '', 'location': '', 'created_at': '2024-04-20T18:40:00', 'source': '微博网页版', 'attitudes_count': 9785, 'comments_count': 1991, 'reposts_count': 2144, 'topics': '陶喆佛山演唱会,陶喆SoulPowerII世界巡回演唱会', 'at_users': '', 'full_created_at': '2024-04-20 18:40:00'}\n",
      "{'_id': ObjectId('6624bdf48719ca2ea01635c5'), 'user_id': 1630856882, 'screen_name': '陶喆', 'id': 5025295297413603, 'bid': 'OaC2Rv6Cf', 'text': 'A-LINK with DT🔗\\n妹子@天生歌姬A-Lin 今晚在佛山我們一起加油喔！🤘#ALin佛山演唱会##A-Link with Passengers# ', 'article_url': '', 'pics': 'https://wx3.sinaimg.cn/large/001MmUnggy1hoxfloruwyj61sc2dse8102.jpg,https://wx3.sinaimg.cn/large/001MmUnggy1hoxflo0l9dj61sc2dshdt02.jpg', 'video_url': '', 'location': '', 'created_at': '2024-04-20T18:00:27', 'source': 'iPhone客户端', 'attitudes_count': 9905, 'comments_count': 2311, 'reposts_count': 2318, 'topics': 'ALin佛山演唱会,A-Link with Passengers', 'at_users': '天生歌姬A-Lin', 'full_created_at': '2024-04-20 18:00:27'}\n",
      "{'_id': ObjectId('6624bdf48719ca2ea01635c6'), 'user_id': 1630856882, 'screen_name': '陶喆', 'id': 5025189555601645, 'bid': 'Oazijnvf7', 'text': '相信再困難的天氣也阻擋不了我們即將相見的心。大家在來的路上一定要注意安全🙏今晚讓我們互相給彼此Power!#陶喆佛山演唱会##陶喆SoulPowerII世界巡回演唱会# ', 'article_url': '', 'pics': 'https://wx2.sinaimg.cn/large/001MmUnggy1howoieldz0j64mo334npe02.jpg,https://wx3.sinaimg.cn/large/001MmUnggy1howoiffarej60ye1fuhdt02.jpg,https://wx2.sinaimg.cn/large/001MmUnggy1howoigk00jj61og14ae8202.jpg,https://wx1.sinaimg.cn/large/001MmUnggy1howoijrieej64o033s4qu02.jpg,https://wx3.sinaimg.cn/large/001MmUnggy1howoimngkmj64mo334u1102.jpg,https://wx1.sinaimg.cn/large/001MmUnggy1howoipu1irj64mo334qv602.jpg', 'video_url': '', 'location': '', 'created_at': '2024-04-20T11:00:16', 'source': 'iPhone客户端', 'attitudes_count': 11005, 'comments_count': 2374, 'reposts_count': 2330, 'topics': '陶喆佛山演唱会,陶喆SoulPowerII世界巡回演唱会', 'at_users': '', 'full_created_at': '2024-04-20 11:00:16'}\n",
      "{'_id': ObjectId('6624bdf48719ca2ea01635c7'), 'user_id': 1630856882, 'screen_name': '陶喆', 'id': 5024940409225756, 'bid': 'OasOsCI2w', 'text': '#我想和你唱收官##我想和你唱# 今晚我回來了！😎和擦肩而過的兄妹搭子@容祖儿 一起回來了！上次來是節目開播的第一期，這次來是第五季的收官夜，竟然也有8年之久了...但大家的熱情不減❤️🔥音樂不停，今晚22:00繼續嗨唱！🤘 ', 'article_url': '', 'pics': 'https://wx3.sinaimg.cn/large/001MmUnggy1how6qa2d1ej61jk2rjb2b02.jpg,https://wx4.sinaimg.cn/large/001MmUnggy1how6qbr8eoj62wc1kye8302.jpg,https://wx3.sinaimg.cn/large/001MmUnggy1how6qe54hwj62tc480b2d02.jpg,https://wx4.sinaimg.cn/large/001MmUnggy1how6qk28gdj65xb3yakjw02.jpg,https://wx4.sinaimg.cn/large/001MmUnggy1how6qpydilj63uo5rw1l502.jpg,https://wx1.sinaimg.cn/large/001MmUnggy1how6qw9laij63ya5xbkjs02.jpg,https://wx4.sinaimg.cn/large/001MmUnggy1how6r2i1r6j63ya5xbx6w02.jpg,https://wx3.sinaimg.cn/large/001MmUnggy1how6r8wohaj66bk47snpi02.jpg,https://wx1.sinaimg.cn/large/001MmUnggy1how6re9dtbj647s6bke8702.jpg,https://wx4.sinaimg.cn/large/001MmUnggy1how6rknl6rj63vz5tvx6v02.jpg,https://wx3.sinaimg.cn/large/001MmUnggy1how6q8fv0lj63344monph02.jpg', 'video_url': '', 'location': '', 'created_at': '2024-04-19T18:30:15', 'source': 'iPhone客户端', 'attitudes_count': 9857, 'comments_count': 2463, 'reposts_count': 2761, 'topics': '我想和你唱收官,我想和你唱', 'at_users': '容祖儿', 'full_created_at': '2024-04-19 18:30:15'}\n",
      "{'_id': ObjectId('6624c46517ab9704a7919666'), 'user_id': 2609400635, 'screen_name': 'TFBOYS-王俊凯', 'id': 5020101705990504, 'bid': 'O8qW6p8p2', 'text': '今晚一起来@Champion中国官方帐号 玩心派对！#全凭玩心奔赴热爱#走进有趣的妙想世界，看看#Champion×王俊凯联名系列#玩心灵感，以及我的#Champion#玩心OOTD！ \\nChampion中国官方帐号的微博视频\\n ', 'article_url': '', 'pics': '', 'video_url': 'https://f.video.weibocdn.com/o0/qmFkGEunlx08dRDWa3du0104120047gk0E010.mp4?label=mp4_720p&template=720x1280.24.0&ori=0&ps=1CwnkDw1GXwCQx&Expires=1713689372&ssig=ertAQfomgZ&KID=unistore,video', 'location': '', 'created_at': '2024-04-06T10:02:57', 'source': '微博视频号', 'attitudes_count': 1096399, 'comments_count': 738258, 'reposts_count': 1000000, 'topics': '全凭玩心奔赴热爱,Champion×王俊凯联名系列,Champion', 'at_users': 'Champion中国官方帐号', 'full_created_at': '2024-04-06 10:02:57'}\n"
     ]
    }
   ],
   "source": [
    "for i in spider_collection.find():\n",
    "    print(i)"
   ]
  },
  {
   "cell_type": "code",
   "execution_count": 1,
   "metadata": {},
   "outputs": [
    {
     "data": {
      "text/plain": [
       "UpdateResult({'n': 70, 'nModified': 70, 'ok': 1.0, 'updatedExisting': True}, acknowledged=True)"
      ]
     },
     "execution_count": 1,
     "metadata": {},
     "output_type": "execute_result"
    }
   ],
   "source": [
    "import pymongo\n",
    "client = pymongo.MongoClient(host='127.0.0.1:27017')\n",
    "collection = client['whut_final']['weibo']\n",
    "\n",
    "new_att = \"spider_time\"\n",
    "new_value = \"2024-01-15T16:06:45\"\n",
    "collection.update_many({}, {\"$set\": {new_att: new_value}})"
   ]
  },
  {
   "cell_type": "code",
   "execution_count": 5,
   "metadata": {},
   "outputs": [],
   "source": [
    "import pymongo\n",
    "client = pymongo.MongoClient(host='127.0.0.1:27017')\n",
    "collection_spider = client['test']['weibo']\n",
    "collection = client['whut_final']['weibo']\n",
    "\n",
    "if collection.find_one({\"id\": 5020101705990504}):\n",
    "    print(\"yes\")"
   ]
  },
  {
   "cell_type": "code",
   "execution_count": 5,
   "metadata": {},
   "outputs": [
    {
     "data": {
      "text/plain": [
       "'{\"nickname\":\"456\"}'"
      ]
     },
     "execution_count": 5,
     "metadata": {},
     "output_type": "execute_result"
    }
   ],
   "source": [
    "import requests\n",
    "import json\n",
    "\n",
    "data = {'username': \"123\", 'password': \"123\"}\n",
    "\n",
    "response = requests.post(\"http://127.0.0.1:8000/api/login\", data=json.dumps(data))\n",
    "response.text"
   ]
  },
  {
   "cell_type": "code",
   "execution_count": 1,
   "metadata": {},
   "outputs": [],
   "source": [
    "import pymongo\n",
    "client = pymongo.MongoClient(host='127.0.0.1:27017')\n",
    "collection = client['whut_final']['user']\n",
    "\n",
    "login_user = collection.find_one({\"username\": \"12356\"})\n"
   ]
  },
  {
   "cell_type": "code",
   "execution_count": 3,
   "metadata": {},
   "outputs": [
    {
     "data": {
      "text/plain": [
       "'weqeqwe'"
      ]
     },
     "execution_count": 3,
     "metadata": {},
     "output_type": "execute_result"
    }
   ],
   "source": [
    "login_user['password']"
   ]
  },
  {
   "cell_type": "code",
   "execution_count": 20,
   "metadata": {},
   "outputs": [],
   "source": [
    "import requests\n",
    "import json\n",
    "\n",
    "datas = []\n",
    "\n",
    "headers = {\n",
    "    'user-agent': \"Mozilla/5.0 (Windows NT 10.0; Win64; x64) AppleWebKit/537.36 (KHTML, like Gecko) Chrome/124.0.0.0 Safari/537.36\",\n",
    "}\n",
    "\n",
    "response = requests.get(\"https://www.weibo.com/ajax/side/hotSearch\", headers=headers)\n",
    "response = json.loads(response.text)\n",
    "\n",
    "for i in range(6):\n",
    "    datas.append(response['data']['realtime'][i]['word'])\n"
   ]
  },
  {
   "cell_type": "code",
   "execution_count": 21,
   "metadata": {},
   "outputs": [
    {
     "data": {
      "text/plain": [
       "['耙耙柑是讨好型水果吧',\n",
       " '沈阳发生持刀伤人嫌犯被抓',\n",
       " '文化中国行',\n",
       " 'iQOO Z9系列发布',\n",
       " '狗头萝莉公开煎饼摊收支结余',\n",
       " '官方再通报种地交钱事件']"
      ]
     },
     "execution_count": 21,
     "metadata": {},
     "output_type": "execute_result"
    }
   ],
   "source": [
    "datas"
   ]
  },
  {
   "cell_type": "code",
   "execution_count": 12,
   "metadata": {},
   "outputs": [],
   "source": [
    "response = json.loads(response)"
   ]
  },
  {
   "cell_type": "code",
   "execution_count": 16,
   "metadata": {},
   "outputs": [
    {
     "data": {
      "text/plain": [
       "'耙耙柑是讨好型水果吧'"
      ]
     },
     "execution_count": 16,
     "metadata": {},
     "output_type": "execute_result"
    }
   ],
   "source": [
    "response['data']['realtime'][0]['word']"
   ]
  },
  {
   "cell_type": "code",
   "execution_count": null,
   "metadata": {},
   "outputs": [],
   "source": []
  }
 ],
 "metadata": {
  "kernelspec": {
   "display_name": "base",
   "language": "python",
   "name": "python3"
  },
  "language_info": {
   "codemirror_mode": {
    "name": "ipython",
    "version": 3
   },
   "file_extension": ".py",
   "mimetype": "text/x-python",
   "name": "python",
   "nbconvert_exporter": "python",
   "pygments_lexer": "ipython3",
   "version": "3.11.5"
  }
 },
 "nbformat": 4,
 "nbformat_minor": 2
}
